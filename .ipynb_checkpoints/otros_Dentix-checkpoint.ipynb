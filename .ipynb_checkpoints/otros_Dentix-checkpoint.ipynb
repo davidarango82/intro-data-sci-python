{
 "cells": [
  {
   "cell_type": "code",
   "execution_count": 1,
   "metadata": {},
   "outputs": [
    {
     "ename": "NameError",
     "evalue": "name 'pd' is not defined",
     "output_type": "error",
     "traceback": [
      "\u001b[1;31m---------------------------------------------------------------------------\u001b[0m",
      "\u001b[1;31mNameError\u001b[0m                                 Traceback (most recent call last)",
      "\u001b[1;32m<ipython-input-1-b40754523169>\u001b[0m in \u001b[0;36m<module>\u001b[1;34m()\u001b[0m\n\u001b[0;32m      1\u001b[0m \u001b[1;31m# DESGLOCE DE PROCEDIMIENTOS: UNA FILA POR PROCEDIMIENTO\u001b[0m\u001b[1;33m\u001b[0m\u001b[1;33m\u001b[0m\u001b[0m\n\u001b[0;32m      2\u001b[0m \u001b[1;33m\u001b[0m\u001b[0m\n\u001b[1;32m----> 3\u001b[1;33m \u001b[0mventa1_df\u001b[0m \u001b[1;33m=\u001b[0m \u001b[0mpd\u001b[0m\u001b[1;33m.\u001b[0m\u001b[0mDataFrame\u001b[0m\u001b[1;33m(\u001b[0m\u001b[1;33m)\u001b[0m\u001b[1;33m\u001b[0m\u001b[0m\n\u001b[0m\u001b[0;32m      4\u001b[0m \u001b[0mtemp_series\u001b[0m \u001b[1;33m=\u001b[0m \u001b[0mpd\u001b[0m\u001b[1;33m.\u001b[0m\u001b[0mSeries\u001b[0m\u001b[1;33m(\u001b[0m\u001b[1;33m)\u001b[0m\u001b[1;33m\u001b[0m\u001b[0m\n\u001b[0;32m      5\u001b[0m \u001b[1;33m\u001b[0m\u001b[0m\n",
      "\u001b[1;31mNameError\u001b[0m: name 'pd' is not defined"
     ]
    }
   ],
   "source": [
    "# DESGLOCE DE PROCEDIMIENTOS: UNA FILA POR PROCEDIMIENTO\n",
    "\n",
    "venta1_df = pd.DataFrame()\n",
    "temp_series = pd.Series()\n",
    "\n",
    "for i in range(0, len(venta_df)):\n",
    "    temp = venta_df.iloc[i:i+1]\n",
    "    venta1_df = venta1_df.append([temp]*venta_df.iloc[i]['Cantidad'], ignore_index=True)\n",
    "    \n",
    "venta1_df['Cantidad'] = 1\n",
    "    \n",
    "temp_series = ['01/03/2018','01/03/2018','01/03/2018','01/03/2018','01/03/2018',\n",
    "'01/03/2018','01/03/2018','01/03/2018','01/03/2018','01/01/2019','01/01/2019','01/03/2018',\n",
    "'01/03/2018','01/01/2019']\n",
    "\n",
    "venta1_df['fecha_prog'] = pd.to_datetime(temp_series)\n",
    "#venta1_df\n",
    "#hacer lo mismo para produccion\n",
    "################################################\n",
    "\n",
    "# AJUSTE DE PROCEDIMIENTOS DE VENTA: UNA FILA POR PROCEDIMIENTO\n",
    "\n",
    "venta1_df = pd.DataFrame()\n",
    "\n",
    "for i in range(0, len(venta_df)):\n",
    "    temp = venta_df.iloc[i:i+1]\n",
    "    venta1_df = venta1_df.append([temp]*venta_df.iloc[i]['Cantidad'], ignore_index=True)"
   ]
  },
  {
   "cell_type": "code",
   "execution_count": null,
   "metadata": {},
   "outputs": [],
   "source": []
  }
 ],
 "metadata": {
  "kernelspec": {
   "display_name": "Python 3",
   "language": "python",
   "name": "python3"
  },
  "language_info": {
   "codemirror_mode": {
    "name": "ipython",
    "version": 3
   },
   "file_extension": ".py",
   "mimetype": "text/x-python",
   "name": "python",
   "nbconvert_exporter": "python",
   "pygments_lexer": "ipython3",
   "version": "3.6.4"
  }
 },
 "nbformat": 4,
 "nbformat_minor": 2
}
