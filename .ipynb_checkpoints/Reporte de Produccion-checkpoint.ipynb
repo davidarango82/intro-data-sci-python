{
 "cells": [
  {
   "cell_type": "code",
   "execution_count": null,
   "metadata": {},
   "outputs": [],
   "source": [
    "import numpy as np\n",
    "import pandas as pd\n",
    "\n",
    "pd.options.display.max_columns = 999\n",
    "pd.options.display.max_rows = 999\n",
    "pd.set_option('display.max_colwidth', -1)\n",
    "\n",
    "archivo_PPE = 'Produccion_pendiente_exigible_con_tratamientos_Dentix_Calle_90.csv'\n",
    "archivo_crono = 'crono_Dentix_Calle_90_1.csv'\n",
    "\n",
    "##### Parametros #####\n",
    "fecha_corte = '2018-09-10'"
   ]
  },
  {
   "cell_type": "code",
   "execution_count": null,
   "metadata": {},
   "outputs": [],
   "source": [
    "crono_df = pd.read_csv(archivo_crono, encoding = 'unicode_escape', sep=',')\n",
    "PPE = pd.read_csv(archivo_PPE, encoding = 'unicode_escape', sep=',')\n",
    "\n",
    "##### Eliminación de Puntos y Revisiones #####\n",
    "PPE.set_index('Servicio', inplace=True)\n",
    "PPE.drop(index='Puntos y Revisiones.  ',inplace=True)\n",
    "PPE.reset_index(inplace=True)"
   ]
  },
  {
   "cell_type": "code",
   "execution_count": null,
   "metadata": {},
   "outputs": [],
   "source": [
    "PPE"
   ]
  },
  {
   "cell_type": "markdown",
   "metadata": {},
   "source": [
    "# Cruce Cronogramas - PPE para adjuntar datos actualizados"
   ]
  },
  {
   "cell_type": "code",
   "execution_count": null,
   "metadata": {},
   "outputs": [],
   "source": [
    "reporte = pd.merge(crono_df,PPE,how='right',left_on=['Presupuesto','Servicio'], right_on=['Presupuesto','Servicio'])\n",
    "reporte.sort_values(['Nº Historia_x','Presupuesto'],inplace=True)\n",
    "reporte.reset_index(inplace=True)\n",
    "#reporte.set_index(['Nº Historia_x','Presupuesto'])\n",
    "reporte"
   ]
  },
  {
   "cell_type": "markdown",
   "metadata": {},
   "source": [
    "# Calculo: Cantidad Producida, Cantidad Pendiente"
   ]
  },
  {
   "cell_type": "code",
   "execution_count": null,
   "metadata": {},
   "outputs": [],
   "source": [
    "reporte['Cantidad Producida'] = np.ceil(reporte['Producidos']/reporte['Importe Pres.'])\n",
    "reporte['Cantidad Pendiente'] = np.ceil(reporte['Cantidad Presupuestada'] - reporte['Cantidad Producida'])\n",
    "#reporte"
   ]
  },
  {
   "cell_type": "markdown",
   "metadata": {},
   "source": [
    "# Cruce (Reporte-Tabla de Servicios): VIGENCIA y CORRIMIENTO"
   ]
  },
  {
   "cell_type": "code",
   "execution_count": null,
   "metadata": {},
   "outputs": [],
   "source": [
    "##### TABLA DE SERVICIOS: CORRIMIENTO Y VIGENCIA (en semanas) #####\n",
    "\n",
    "servicios_df = pd.DataFrame(reporte['ttmto_homol'].unique())\n",
    "servicios_df['Corrimiento'] = 0\n",
    "servicios_df['Vigencia'] = 0\n",
    "servicios_df.rename(columns={0: 'ttmto_homol'}, inplace=True)\n",
    "servicios_df = servicios_df.set_index('ttmto_homol')\n",
    "\n",
    "servicios_df.loc['MENSUALIDAD ORTODONCIA METALICA']=(4,0)\n",
    "servicios_df.loc['MENSUALIDAD ORTODONCIA ESTETICOS O CERAMICOS']=(4,0)\n",
    "servicios_df.loc['MENSUALIDAD ORTODONCIA ZAFIRO']=(4,0)\n",
    "servicios_df.loc['MENSUALIDAD ORTODONCIA AUTOLIGABLES']=(6,0)\n",
    "servicios_df.loc['MENSUALIDAD ORTODONCIA AUTOLIGADOS']=(6,0)\n",
    "servicios_df.loc['IMPLANTE']=(0,16)\n",
    "servicios_df.loc['EXODONCIA SIMPLE']=(0,12)\n",
    "servicios_df.loc['EXODONCIA QUIRURGICA DE CORDAL (INCLUIDO SEMIERUPCIONADO)']=(0,1)\n",
    "servicios_df.loc['REGENERACION OSEA']=(0,24)\n",
    "servicios_df.loc['ELEVACION AL SENO ATRAUMATICA (POR CUADRANTE)']=(0,24)\n",
    "servicios_df.loc['CORONA SOBRE IMPLANTE']=(4,0)\n",
    "servicios_df.loc['RASPAJE CON ALISADO RADICULAR A CAMPO ABIERTO X CUADRANTE']=(0,2)\n",
    "servicios_df.loc['EXODONCIA SIMPLE COMPLEJIDAD 1-2-3']=(0,8)\n",
    "servicios_df.loc['EXODONCIA DE RESTOS RADICULARES']=(0,8)\n",
    "servicios_df.loc['CORONA METAL CERAMICA']=(1,0)\n",
    "servicios_df.loc['CORONA ESTETICAS ALUMINA Y CEREC Y ZIRCONIO']=(1,0)\n",
    "servicios_df.loc['CORONAS EN ZIRCONIO SISTEMA CEREC']=(1,0)\n",
    "\n",
    "servicios_df = servicios_df.reset_index()\n",
    "servicios_df"
   ]
  },
  {
   "cell_type": "code",
   "execution_count": null,
   "metadata": {},
   "outputs": [],
   "source": [
    "reporte = pd.merge(reporte, servicios_df, how='left', left_on=['ttmto_homol'], right_on=['ttmto_homol'])\n",
    "reporte"
   ]
  },
  {
   "cell_type": "markdown",
   "metadata": {},
   "source": [
    "# Cálculo fecha_vigencia y fecha_prox"
   ]
  },
  {
   "cell_type": "code",
   "execution_count": null,
   "metadata": {},
   "outputs": [],
   "source": [
    "reporte['Fecha Última Cita Prod'] = pd.to_datetime(reporte['Fecha Última Cita Prod'], format='%d/%m/%Y', errors='coerce')\n",
    "reporte['fecha_inicio'] = pd.to_datetime(reporte['fecha_inicio'], format='%d/%m/%Y', errors='coerce')\n",
    "reporte['Próxima Cita'] = pd.to_datetime(reporte['Próxima Cita'], format='%d/%m/%Y', errors='coerce')\n",
    "\n",
    "##### Calculo de  fecha_vigencia #####\n",
    "reporte['fecha_vigencia'] =  reporte['Fecha Última Cita Prod']+pd.to_timedelta(reporte['Vigencia']*7, unit='D')\n",
    "\n",
    "##### Calculo de  fecha_prox ##### (falta tener en cuenta el retraso acumulado del ppto)\n",
    "reporte['fecha_prox'] = reporte['fecha_inicio'] + pd.to_timedelta(reporte['Semana']*7, unit='D') + pd.to_timedelta(reporte['Cantidad Producida']*reporte['Corrimiento']*7, unit='D')\n",
    "                        \n",
    "#reporte['fecha_prox'] = reporte['fecha_inicio'] + reporte['Semana'] + reporte['Cantidad Producida']*reporte['Corrimiento']*7\n",
    "#                        + retraso_acum_ppto\n",
    "\n",
    "#reporte.set_index(['Nº Historia_x','Presupuesto'])\n",
    "reporte"
   ]
  },
  {
   "cell_type": "markdown",
   "metadata": {},
   "source": [
    "# Reporte Filtrado"
   ]
  },
  {
   "cell_type": "code",
   "execution_count": null,
   "metadata": {},
   "outputs": [],
   "source": [
    "reporte['citas_futuras'] = reporte['Próxima Cita']>fecha_corte\n",
    "reporte['citas_futuras'] = reporte['citas_futuras']*1\n",
    "reporte['ttmto_activo'] = (reporte['% Realizado'] != '100.00%')*1\n",
    "paciente_sum = reporte.groupby(['Nº Historia_x','Presupuesto']).sum()\n",
    "paciente_sum['saldo'] = paciente_sum['Pagado Pres.'] - paciente_sum['Producidos']\n",
    "paciente_sum = paciente_sum[['Pagado Pres.','saldo','citas_futuras','ttmto_activo']]\n",
    "\n",
    "#paciente_sum"
   ]
  },
  {
   "cell_type": "code",
   "execution_count": null,
   "metadata": {},
   "outputs": [],
   "source": [
    "reporte = pd.merge(reporte, paciente_sum, how='left', left_on=['Nº Historia_x','Presupuesto'], right_index=True)\n",
    "reporte"
   ]
  },
  {
   "cell_type": "code",
   "execution_count": null,
   "metadata": {},
   "outputs": [],
   "source": [
    "# vigencias activas\n",
    "vigencias = reporte[(reporte['fecha_vigencia']>=fecha_corte)]\n",
    "vigencias"
   ]
  },
  {
   "cell_type": "code",
   "execution_count": null,
   "metadata": {},
   "outputs": [],
   "source": [
    "reporteFilt = reporte[((reporte['fecha_prox']<=fecha_corte) & (reporte['citas_futuras_y']==0) \n",
    "                       & (reporte['% Realizado']!='100.00%') & (reporte['saldo']!=0))]\n",
    "\n",
    "print('Numero de pacientes a citar:',reporteFilt['Nº Historia_x'].unique().size)\n",
    "\n",
    "#reporteFilt.set_index(['Nº Historia_x','Presupuesto'])\n",
    "reporteFilt"
   ]
  },
  {
   "cell_type": "code",
   "execution_count": null,
   "metadata": {},
   "outputs": [],
   "source": [
    "# Extraer vigencias activas para agregarlas a reporteFilt\n",
    "vigencias_ids = pd.merge(vigencias, reporteFilt, how='left', left_on=['Nº Historia_x'], right_on=['Nº Historia_x'])\n",
    "vigencias_ids.dropna(subset=['index_y'],inplace=True)\n",
    "vigencias_ids = vigencias_ids[['Nº Historia_x']]\n",
    "vigencias_ids.drop_duplicates(inplace=True)\n",
    "vigencias_activas = pd.merge(vigencias, vigencias_ids, how='inner', left_on=['Nº Historia_x'], right_on=['Nº Historia_x'])\n",
    "vigencias_activas\n",
    "\n"
   ]
  },
  {
   "cell_type": "code",
   "execution_count": null,
   "metadata": {},
   "outputs": [],
   "source": [
    "# Agregar vigencias activas a reporteFilt\n",
    "reporteFilt = reporteFilt.append(vigencias_activas, ignore_index=True)\n",
    "reporteFilt.set_index('Nº Historia_x',inplace=True)\n",
    "reporteFilt.sort_index(inplace=True)"
   ]
  },
  {
   "cell_type": "code",
   "execution_count": null,
   "metadata": {},
   "outputs": [],
   "source": [
    "reporteFilt.reset_index(inplace=True)\n",
    "reporteFilt.set_index(['Nº Historia_x','ttmto_homol'])\n",
    "#reporteFilt.to_csv('reporte.csv',index = False)"
   ]
  },
  {
   "cell_type": "code",
   "execution_count": null,
   "metadata": {},
   "outputs": [],
   "source": []
  }
 ],
 "metadata": {
  "kernelspec": {
   "display_name": "Python 3",
   "language": "python",
   "name": "python3"
  },
  "language_info": {
   "codemirror_mode": {
    "name": "ipython",
    "version": 3
   },
   "file_extension": ".py",
   "mimetype": "text/x-python",
   "name": "python",
   "nbconvert_exporter": "python",
   "pygments_lexer": "ipython3",
   "version": "3.6.4"
  }
 },
 "nbformat": 4,
 "nbformat_minor": 2
}
