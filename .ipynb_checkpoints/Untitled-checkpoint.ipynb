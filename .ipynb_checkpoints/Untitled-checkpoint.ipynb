{
 "cells": [
  {
   "cell_type": "markdown",
   "metadata": {},
   "source": [
    "# Parámetros del Programa"
   ]
  },
  {
   "cell_type": "markdown",
   "metadata": {},
   "source": [
    "# Ajustes de Python"
   ]
  },
  {
   "cell_type": "code",
   "execution_count": 441,
   "metadata": {},
   "outputs": [],
   "source": [
    "import pandas as pd\n",
    "import numpy as np\n",
    "\n",
    "from IPython.display import display\n",
    "pd.options.display.max_columns = None\n",
    "\n",
    "pd.set_option(\"display.max_rows\",1000)"
   ]
  },
  {
   "cell_type": "markdown",
   "metadata": {},
   "source": [
    "# Carga de Datos"
   ]
  },
  {
   "cell_type": "code",
   "execution_count": 442,
   "metadata": {},
   "outputs": [
    {
     "data": {
      "text/html": [
       "<div>\n",
       "<style scoped>\n",
       "    .dataframe tbody tr th:only-of-type {\n",
       "        vertical-align: middle;\n",
       "    }\n",
       "\n",
       "    .dataframe tbody tr th {\n",
       "        vertical-align: top;\n",
       "    }\n",
       "\n",
       "    .dataframe thead th {\n",
       "        text-align: right;\n",
       "    }\n",
       "</style>\n",
       "<table border=\"1\" class=\"dataframe\">\n",
       "  <thead>\n",
       "    <tr style=\"text-align: right;\">\n",
       "      <th></th>\n",
       "      <th>idApunte</th>\n",
       "      <th>IdClinica</th>\n",
       "      <th>Nombre_Clinica</th>\n",
       "      <th>idContacto</th>\n",
       "      <th>nombre</th>\n",
       "      <th>apellidos</th>\n",
       "      <th>dni</th>\n",
       "      <th>Doctor</th>\n",
       "      <th>fechaApunte</th>\n",
       "      <th>Mes</th>\n",
       "      <th>Id_Tratamiento</th>\n",
       "      <th>Nombre_Tratamiento</th>\n",
       "      <th>Pieza</th>\n",
       "      <th>Cantidad</th>\n",
       "      <th>Precio</th>\n",
       "      <th>Precio_sin_descuento</th>\n",
       "      <th>Descuento_Porcentaje</th>\n",
       "      <th>Vr_descontado</th>\n",
       "      <th>Precio_con_descuento</th>\n",
       "      <th>TotalPagos</th>\n",
       "    </tr>\n",
       "  </thead>\n",
       "  <tbody>\n",
       "    <tr>\n",
       "      <th>0</th>\n",
       "      <td>37436984</td>\n",
       "      <td>2000</td>\n",
       "      <td>Autopista 104A Bogota</td>\n",
       "      <td>826386</td>\n",
       "      <td>EVELYN</td>\n",
       "      <td>DAZA</td>\n",
       "      <td>55312212</td>\n",
       "      <td>LEIDIS MARIAN MEJIA CUENTAS</td>\n",
       "      <td>01/02/2018 8:49</td>\n",
       "      <td>February</td>\n",
       "      <td>16711</td>\n",
       "      <td>MENSUALIDAD ORTODONCIA METALICA</td>\n",
       "      <td>11</td>\n",
       "      <td>6</td>\n",
       "      <td>70000</td>\n",
       "      <td>1260000</td>\n",
       "      <td>17.9</td>\n",
       "      <td>225540</td>\n",
       "      <td>1034460</td>\n",
       "      <td>50000</td>\n",
       "    </tr>\n",
       "  </tbody>\n",
       "</table>\n",
       "</div>"
      ],
      "text/plain": [
       "   idApunte  IdClinica         Nombre_Clinica  idContacto  nombre apellidos  \\\n",
       "0  37436984       2000  Autopista 104A Bogota      826386  EVELYN      DAZA   \n",
       "\n",
       "        dni                       Doctor      fechaApunte       Mes  \\\n",
       "0  55312212  LEIDIS MARIAN MEJIA CUENTAS  01/02/2018 8:49  February   \n",
       "\n",
       "   Id_Tratamiento               Nombre_Tratamiento  Pieza  Cantidad  Precio  \\\n",
       "0           16711  MENSUALIDAD ORTODONCIA METALICA     11         6   70000   \n",
       "\n",
       "   Precio_sin_descuento  Descuento_Porcentaje  Vr_descontado  \\\n",
       "0               1260000                  17.9         225540   \n",
       "\n",
       "   Precio_con_descuento  TotalPagos  \n",
       "0               1034460       50000  "
      ]
     },
     "execution_count": 442,
     "metadata": {},
     "output_type": "execute_result"
    }
   ],
   "source": [
    "venta_df = pd.read_csv(\"ventasPrueba.csv\")\n",
    "venta_df.head(1)"
   ]
  },
  {
   "cell_type": "code",
   "execution_count": 443,
   "metadata": {},
   "outputs": [
    {
     "data": {
      "text/html": [
       "<div>\n",
       "<style scoped>\n",
       "    .dataframe tbody tr th:only-of-type {\n",
       "        vertical-align: middle;\n",
       "    }\n",
       "\n",
       "    .dataframe tbody tr th {\n",
       "        vertical-align: top;\n",
       "    }\n",
       "\n",
       "    .dataframe thead th {\n",
       "        text-align: right;\n",
       "    }\n",
       "</style>\n",
       "<table border=\"1\" class=\"dataframe\">\n",
       "  <thead>\n",
       "    <tr style=\"text-align: right;\">\n",
       "      <th></th>\n",
       "      <th>Clínica</th>\n",
       "      <th>Fecha Cita</th>\n",
       "      <th>Fecha Pago</th>\n",
       "      <th>DNI</th>\n",
       "      <th>Doctor</th>\n",
       "      <th>Paciente</th>\n",
       "      <th>Nº Historia</th>\n",
       "      <th>Presupuesto</th>\n",
       "      <th>Tratamiento</th>\n",
       "      <th>Categoría</th>\n",
       "      <th>Especialidad</th>\n",
       "      <th>Duración</th>\n",
       "      <th>Importe Tratamiento</th>\n",
       "      <th>% Descuento</th>\n",
       "      <th>Importe Descuento</th>\n",
       "      <th>Importe Producido</th>\n",
       "      <th>Equivalencia</th>\n",
       "    </tr>\n",
       "  </thead>\n",
       "  <tbody>\n",
       "    <tr>\n",
       "      <th>0</th>\n",
       "      <td>Dentix Av. 100 Cali</td>\n",
       "      <td>02/01/2016</td>\n",
       "      <td>02/01/2016</td>\n",
       "      <td>55312212</td>\n",
       "      <td>MARIA ISABEL MUÑOZ QUINTERO</td>\n",
       "      <td>EVELYN DAZA</td>\n",
       "      <td>123</td>\n",
       "      <td>10</td>\n",
       "      <td>1x RETIRO BRACKETS ARCADA INFERIOR.  Pieza: 11</td>\n",
       "      <td>Generalista</td>\n",
       "      <td>OPERATORIA GENERAL</td>\n",
       "      <td>30</td>\n",
       "      <td>90000</td>\n",
       "      <td>0%</td>\n",
       "      <td>0</td>\n",
       "      <td>90000</td>\n",
       "      <td>0</td>\n",
       "    </tr>\n",
       "  </tbody>\n",
       "</table>\n",
       "</div>"
      ],
      "text/plain": [
       "                 Clínica  Fecha Cita  Fecha Pago       DNI  \\\n",
       "0  Dentix Av. 100 Cali    02/01/2016  02/01/2016  55312212   \n",
       "\n",
       "                        Doctor     Paciente  Nº Historia  Presupuesto  \\\n",
       "0  MARIA ISABEL MUÑOZ QUINTERO  EVELYN DAZA          123           10   \n",
       "\n",
       "                                      Tratamiento    Categoría  \\\n",
       "0  1x RETIRO BRACKETS ARCADA INFERIOR.  Pieza: 11  Generalista   \n",
       "\n",
       "         Especialidad  Duración  Importe Tratamiento % Descuento  \\\n",
       "0  OPERATORIA GENERAL        30                90000          0%   \n",
       "\n",
       "   Importe Descuento  Importe Producido  Equivalencia  \n",
       "0                  0              90000             0  "
      ]
     },
     "execution_count": 443,
     "metadata": {},
     "output_type": "execute_result"
    }
   ],
   "source": [
    "prod_df = pd.read_csv('prodPrueba.csv', engine='python')\n",
    "prod_df.head(1)"
   ]
  },
  {
   "cell_type": "markdown",
   "metadata": {},
   "source": [
    "# Nuevas Columnas"
   ]
  },
  {
   "cell_type": "code",
   "execution_count": 444,
   "metadata": {},
   "outputs": [],
   "source": [
    "# agregar columnas nuevas a VENTA - DataFrame principal\n",
    "#venta_df['ttmto_homol']='' \n",
    "venta_df['unids_pdtes']=None\n",
    "venta_df['ultima_aten']=None\n",
    "venta_df['fecha_prog']=None \n",
    "venta_df['retraso']=None\n",
    "venta_df['estado']=None\n",
    "venta_df['nivel_retraso']=None\n",
    "\n",
    "# agregar columnas nuevas a PRODUCCION\n",
    "prod_df['ttmto_homol']=''"
   ]
  },
  {
   "cell_type": "markdown",
   "metadata": {},
   "source": [
    "# Homologaciones"
   ]
  },
  {
   "cell_type": "code",
   "execution_count": 445,
   "metadata": {},
   "outputs": [],
   "source": [
    "#homologacion de VENTAS\n",
    "\n",
    "venta_df['ttmto_homol']=venta_df['Nombre_Tratamiento']\n",
    "\n",
    "#diccionario de homologacion para VENTA y homologacion (si no esta incluida una homol, queda Nombre_Tratamiento)\n",
    "di = {\"RASPAJE Y PULIDO CORONAL(DETRARTAJE SUPRAGINGIVAL) X CUADRANTE\": \"RASPAJE_CUADRANTE\", \n",
    "      \"RETENEDOR FIJO 3X3 EN ALAMBRE\": \"RETENEDOR FIJO\",\"RETENEDOR ESSIX O ESTETICOS\": \"RETENEDOR ESSIX\", \n",
    "      \"RETIRO BRACKETS ARCADA INFERIOR\": \"RETIRO BRACKETS ARCADA\",\"RETIRO BRACKETS ARCADA SUPERIOR\": \"RETIRO BRACKETS ARCADA\"}\n",
    "venta_df['ttmto_homol'].replace(di, inplace=True)\n",
    "\n",
    "# **uncomment to display venta_df:\n",
    "#display(venta_df)\n"
   ]
  },
  {
   "cell_type": "code",
   "execution_count": 446,
   "metadata": {},
   "outputs": [],
   "source": [
    "#homologacion de PRODUCCION\n",
    "\n",
    "prod_df['temp'] = prod_df['Tratamiento'].str.contains('MENSUALIDAD ORTODONCIA METALICA')\n",
    "prod_df.loc[prod_df['temp'] == True,'ttmto_homol'] = 'MENSUALIDAD ORTODONCIA METALICA'\n",
    "\n",
    "prod_df['temp'] = prod_df['Tratamiento'].str.contains('RETIRO BRACKETS ARCADA')\n",
    "prod_df.loc[prod_df['temp'] == True,'ttmto_homol'] = 'RETIRO BRACKETS ARCADA'\n",
    "\n",
    "prod_df['temp'] = prod_df['Tratamiento'].str.contains('RETIRO BRACKETS ARCADA')\n",
    "prod_df.loc[prod_df['temp'] == True,'ttmto_homol'] = 'RETIRO BRACKETS ARCADA'\n",
    "\n",
    "#prod_df"
   ]
  },
  {
   "cell_type": "markdown",
   "metadata": {},
   "source": [
    "# Preprocesamiento"
   ]
  },
  {
   "cell_type": "code",
   "execution_count": 447,
   "metadata": {},
   "outputs": [],
   "source": [
    "# NaN, vacíos,etc\n",
    "# deshechar columnas innecesarias de ventas y produccion\n",
    "\n",
    "# CAMBIAR FORMATO DE COLUMNA 'FECHA CITA' A DATE (SIN HORA)\n",
    "temp_series = pd.Series() \n",
    "temp_series = prod_df['Fecha Cita']\n",
    "prod_df['Fecha Cita'] = pd.to_datetime(temp_series)\n",
    "#prod_df\n"
   ]
  },
  {
   "cell_type": "markdown",
   "metadata": {},
   "source": [
    "# Resumen de tratamientos por cantidades y Fecha de Prog"
   ]
  },
  {
   "cell_type": "code",
   "execution_count": 448,
   "metadata": {
    "scrolled": true
   },
   "outputs": [],
   "source": [
    "# Resumen de CANTIDADES en Dataframe de VENTA\n",
    "ventaResumen = venta_df.groupby(['nombre','dni','ttmto_homol'], as_index = False).sum()\n",
    "ventaResumen['fecha_prog'] = '' #esta fecha se llena en clinica y se va corriendo auto a medida que se evoluciona, en el cruce\n",
    "#ventaResumen"
   ]
  },
  {
   "cell_type": "code",
   "execution_count": 449,
   "metadata": {},
   "outputs": [],
   "source": [
    "# Programar fecha de procedimientos (luego se exportará a csv y se diligenciara en excel)\n",
    "temp_series = pd.Series()\n",
    "\n",
    "temp_series = ['01/03/2018','01/03/2018','01/03/2018','01/03/2018']\n",
    "ventaResumen['fecha_prog'] = pd.to_datetime(temp_series)\n",
    "#ventaResumen"
   ]
  },
  {
   "cell_type": "code",
   "execution_count": 450,
   "metadata": {},
   "outputs": [],
   "source": [
    "# Extraccion de Cantidad desde [Tratamientos] en PRODUCCION\n",
    "prod_df['Cant'] = prod_df['Tratamiento'].astype(str).str[0]\n",
    "prod_df = prod_df.astype({\"Cant\": int})\n",
    "#prod_df"
   ]
  },
  {
   "cell_type": "code",
   "execution_count": 451,
   "metadata": {},
   "outputs": [
    {
     "data": {
      "text/html": [
       "<div>\n",
       "<style scoped>\n",
       "    .dataframe tbody tr th:only-of-type {\n",
       "        vertical-align: middle;\n",
       "    }\n",
       "\n",
       "    .dataframe tbody tr th {\n",
       "        vertical-align: top;\n",
       "    }\n",
       "\n",
       "    .dataframe thead th {\n",
       "        text-align: right;\n",
       "    }\n",
       "</style>\n",
       "<table border=\"1\" class=\"dataframe\">\n",
       "  <thead>\n",
       "    <tr style=\"text-align: right;\">\n",
       "      <th></th>\n",
       "      <th>Paciente</th>\n",
       "      <th>DNI</th>\n",
       "      <th>ttmto_homol</th>\n",
       "      <th>Nº Historia</th>\n",
       "      <th>Presupuesto</th>\n",
       "      <th>Duración</th>\n",
       "      <th>Importe Tratamiento</th>\n",
       "      <th>Importe Descuento</th>\n",
       "      <th>Importe Producido</th>\n",
       "      <th>Equivalencia</th>\n",
       "      <th>temp</th>\n",
       "      <th>Cant</th>\n",
       "    </tr>\n",
       "  </thead>\n",
       "  <tbody>\n",
       "    <tr>\n",
       "      <th>0</th>\n",
       "      <td>EVELYN DAZA</td>\n",
       "      <td>55312212</td>\n",
       "      <td>MENSUALIDAD ORTODONCIA METALICA</td>\n",
       "      <td>246</td>\n",
       "      <td>10</td>\n",
       "      <td>60</td>\n",
       "      <td>140000</td>\n",
       "      <td>14000</td>\n",
       "      <td>126000</td>\n",
       "      <td>0</td>\n",
       "      <td>0.0</td>\n",
       "      <td>2</td>\n",
       "    </tr>\n",
       "    <tr>\n",
       "      <th>1</th>\n",
       "      <td>EVELYN DAZA</td>\n",
       "      <td>55312212</td>\n",
       "      <td>RETIRO BRACKETS ARCADA</td>\n",
       "      <td>246</td>\n",
       "      <td>22</td>\n",
       "      <td>60</td>\n",
       "      <td>180000</td>\n",
       "      <td>0</td>\n",
       "      <td>225000</td>\n",
       "      <td>0</td>\n",
       "      <td>2.0</td>\n",
       "      <td>2</td>\n",
       "    </tr>\n",
       "  </tbody>\n",
       "</table>\n",
       "</div>"
      ],
      "text/plain": [
       "      Paciente       DNI                      ttmto_homol  Nº Historia  \\\n",
       "0  EVELYN DAZA  55312212  MENSUALIDAD ORTODONCIA METALICA          246   \n",
       "1  EVELYN DAZA  55312212           RETIRO BRACKETS ARCADA          246   \n",
       "\n",
       "   Presupuesto  Duración  Importe Tratamiento  Importe Descuento  \\\n",
       "0           10        60               140000              14000   \n",
       "1           22        60               180000                  0   \n",
       "\n",
       "   Importe Producido  Equivalencia  temp  Cant  \n",
       "0             126000             0   0.0     2  \n",
       "1             225000             0   2.0     2  "
      ]
     },
     "execution_count": 451,
     "metadata": {},
     "output_type": "execute_result"
    }
   ],
   "source": [
    "prodResumen = prod_df.groupby(['Paciente','DNI','ttmto_homol'], as_index = False).sum()\n",
    "prodResumen"
   ]
  },
  {
   "cell_type": "markdown",
   "metadata": {},
   "source": [
    "# Cruce de VENTAS y PRODUCCION y ajuste de FECHA PROG"
   ]
  },
  {
   "cell_type": "code",
   "execution_count": 452,
   "metadata": {},
   "outputs": [
    {
     "data": {
      "text/html": [
       "<div>\n",
       "<style scoped>\n",
       "    .dataframe tbody tr th:only-of-type {\n",
       "        vertical-align: middle;\n",
       "    }\n",
       "\n",
       "    .dataframe tbody tr th {\n",
       "        vertical-align: top;\n",
       "    }\n",
       "\n",
       "    .dataframe thead th {\n",
       "        text-align: right;\n",
       "    }\n",
       "</style>\n",
       "<table border=\"1\" class=\"dataframe\">\n",
       "  <thead>\n",
       "    <tr style=\"text-align: right;\">\n",
       "      <th></th>\n",
       "      <th>IdClinica</th>\n",
       "      <th>Paciente</th>\n",
       "      <th>dni</th>\n",
       "      <th>ttmto_homol</th>\n",
       "      <th>Cant_Pend</th>\n",
       "      <th>fecha_prog</th>\n",
       "    </tr>\n",
       "  </thead>\n",
       "  <tbody>\n",
       "    <tr>\n",
       "      <th>0</th>\n",
       "      <td>4000</td>\n",
       "      <td>EVELYN DAZA</td>\n",
       "      <td>55312212</td>\n",
       "      <td>MENSUALIDAD ORTODONCIA METALICA</td>\n",
       "      <td>7</td>\n",
       "      <td>2018-01-03</td>\n",
       "    </tr>\n",
       "    <tr>\n",
       "      <th>1</th>\n",
       "      <td>4000</td>\n",
       "      <td>EVELYN DAZA</td>\n",
       "      <td>55312212</td>\n",
       "      <td>RETIRO BRACKETS ARCADA</td>\n",
       "      <td>0</td>\n",
       "      <td>2018-01-03</td>\n",
       "    </tr>\n",
       "  </tbody>\n",
       "</table>\n",
       "</div>"
      ],
      "text/plain": [
       "   IdClinica     Paciente       dni                      ttmto_homol  \\\n",
       "0       4000  EVELYN DAZA  55312212  MENSUALIDAD ORTODONCIA METALICA   \n",
       "1       4000  EVELYN DAZA  55312212           RETIRO BRACKETS ARCADA   \n",
       "\n",
       "   Cant_Pend fecha_prog  \n",
       "0          7 2018-01-03  \n",
       "1          0 2018-01-03  "
      ]
     },
     "execution_count": 452,
     "metadata": {},
     "output_type": "execute_result"
    }
   ],
   "source": [
    "# CONCIDENCIAS ENTRE VENTAS Y PROD\n",
    "prog_df = pd.merge(ventaResumen, prodResumen, how='inner', left_on=['dni','ttmto_homol'], right_on=['DNI','ttmto_homol'])\n",
    "prog_df['Cant_Pend'] = prog_df['Cantidad'] - prog_df['Cant']\n",
    "#prog_df\n",
    "prog_df[['IdClinica','Paciente','dni','ttmto_homol','Cant_Pend','fecha_prog']] #el tel del paciente no está en los DFs. Solicitar\n",
    "# falta la actualización de la FECHA DE PROG"
   ]
  },
  {
   "cell_type": "code",
   "execution_count": 468,
   "metadata": {},
   "outputs": [
    {
     "data": {
      "text/html": [
       "<div>\n",
       "<style scoped>\n",
       "    .dataframe tbody tr th:only-of-type {\n",
       "        vertical-align: middle;\n",
       "    }\n",
       "\n",
       "    .dataframe tbody tr th {\n",
       "        vertical-align: top;\n",
       "    }\n",
       "\n",
       "    .dataframe thead th {\n",
       "        text-align: right;\n",
       "    }\n",
       "</style>\n",
       "<table border=\"1\" class=\"dataframe\">\n",
       "  <thead>\n",
       "    <tr style=\"text-align: right;\">\n",
       "      <th></th>\n",
       "      <th>IdClinica</th>\n",
       "      <th>Paciente</th>\n",
       "      <th>dni</th>\n",
       "      <th>ttmto_homol</th>\n",
       "      <th>Cant_Pend</th>\n",
       "      <th>fecha_prog</th>\n",
       "    </tr>\n",
       "  </thead>\n",
       "  <tbody>\n",
       "    <tr>\n",
       "      <th>0</th>\n",
       "      <td>2000</td>\n",
       "      <td>NaN</td>\n",
       "      <td>55312212</td>\n",
       "      <td>RETENEDOR ESSIX</td>\n",
       "      <td>1</td>\n",
       "      <td>2018-01-03</td>\n",
       "    </tr>\n",
       "    <tr>\n",
       "      <th>1</th>\n",
       "      <td>4000</td>\n",
       "      <td>NaN</td>\n",
       "      <td>55312212</td>\n",
       "      <td>RETENEDOR FIJO</td>\n",
       "      <td>2</td>\n",
       "      <td>2018-01-03</td>\n",
       "    </tr>\n",
       "    <tr>\n",
       "      <th>2</th>\n",
       "      <td>4000</td>\n",
       "      <td>EVELYN DAZA</td>\n",
       "      <td>55312212</td>\n",
       "      <td>MENSUALIDAD ORTODONCIA METALICA</td>\n",
       "      <td>7</td>\n",
       "      <td>2018-01-03</td>\n",
       "    </tr>\n",
       "    <tr>\n",
       "      <th>3</th>\n",
       "      <td>4000</td>\n",
       "      <td>EVELYN DAZA</td>\n",
       "      <td>55312212</td>\n",
       "      <td>RETIRO BRACKETS ARCADA</td>\n",
       "      <td>0</td>\n",
       "      <td>2018-01-03</td>\n",
       "    </tr>\n",
       "  </tbody>\n",
       "</table>\n",
       "</div>"
      ],
      "text/plain": [
       "   IdClinica     Paciente       dni                      ttmto_homol  \\\n",
       "0       2000          NaN  55312212                  RETENEDOR ESSIX   \n",
       "1       4000          NaN  55312212                   RETENEDOR FIJO   \n",
       "2       4000  EVELYN DAZA  55312212  MENSUALIDAD ORTODONCIA METALICA   \n",
       "3       4000  EVELYN DAZA  55312212           RETIRO BRACKETS ARCADA   \n",
       "\n",
       "   Cant_Pend fecha_prog  \n",
       "0          1 2018-01-03  \n",
       "1          2 2018-01-03  \n",
       "2          7 2018-01-03  \n",
       "3          0 2018-01-03  "
      ]
     },
     "execution_count": 468,
     "metadata": {},
     "output_type": "execute_result"
    }
   ],
   "source": [
    "# extraer procedimientos de VENTAS que no cruzaron con PROD\n",
    "df1 = pd.merge(ventaResumen, prodResumen, how='left', left_on=['dni','ttmto_homol'], right_on=['DNI','ttmto_homol'])\n",
    "df1 = df1[df1['Paciente'].isnull()]\n",
    "\n",
    "#acomodar procedimientos que no cruzaron de la misma manera\n",
    "df1 = df1.rename(index=str, columns={\"Cantidad\": \"Cant_Pend\"})\n",
    "df1 = df1[['IdClinica','Paciente','dni','ttmto_homol','Cant_Pend','fecha_prog']]\n",
    "\n",
    "#concatenar los procedimientos que no cruzaron con los que si cruzaron (PROGRAMA DE PRODUCCION)\n",
    "ProdProg = pd.concat([df1, prog_df], ignore_index=True)\n",
    "ProdProg = ProdProg[['IdClinica','Paciente','dni','ttmto_homol','Cant_Pend','fecha_prog']]\n",
    "ProdProg[ProdProg['fecha_prog'] > '01-02-2018']\n"
   ]
  },
  {
   "cell_type": "markdown",
   "metadata": {},
   "source": [
    "# otros"
   ]
  },
  {
   "cell_type": "code",
   "execution_count": null,
   "metadata": {},
   "outputs": [],
   "source": [
    "# DESGLOCE DE PROCEDIMIENTOS: UNA FILA POR PROCEDIMIENTO\n",
    "\n",
    "venta1_df = pd.DataFrame()\n",
    "temp_series = pd.Series()\n",
    "\n",
    "for i in range(0, len(venta_df)):\n",
    "    temp = venta_df.iloc[i:i+1]\n",
    "    venta1_df = venta1_df.append([temp]*venta_df.iloc[i]['Cantidad'], ignore_index=True)\n",
    "    \n",
    "venta1_df['Cantidad'] = 1\n",
    "    \n",
    "temp_series = ['01/03/2018','01/03/2018','01/03/2018','01/03/2018','01/03/2018',\n",
    "'01/03/2018','01/03/2018','01/03/2018','01/03/2018','01/01/2019','01/01/2019','01/03/2018',\n",
    "'01/03/2018','01/01/2019']\n",
    "\n",
    "venta1_df['fecha_prog'] = pd.to_datetime(temp_series)\n",
    "#venta1_df\n",
    "#hacer lo mismo para produccion"
   ]
  },
  {
   "cell_type": "code",
   "execution_count": null,
   "metadata": {},
   "outputs": [],
   "source": [
    "# AJUSTE DE PROCEDIMIENTOS DE VENTA: UNA FILA POR PROCEDIMIENTO\n",
    "\n",
    "venta1_df = pd.DataFrame()\n",
    "\n",
    "for i in range(0, len(venta_df)):\n",
    "    temp = venta_df.iloc[i:i+1]\n",
    "    venta1_df = venta1_df.append([temp]*venta_df.iloc[i]['Cantidad'], ignore_index=True)\n",
    "    "
   ]
  }
 ],
 "metadata": {
  "kernelspec": {
   "display_name": "Python 3",
   "language": "python",
   "name": "python3"
  },
  "language_info": {
   "codemirror_mode": {
    "name": "ipython",
    "version": 3
   },
   "file_extension": ".py",
   "mimetype": "text/x-python",
   "name": "python",
   "nbconvert_exporter": "python",
   "pygments_lexer": "ipython3",
   "version": "3.6.4"
  }
 },
 "nbformat": 4,
 "nbformat_minor": 2
}
