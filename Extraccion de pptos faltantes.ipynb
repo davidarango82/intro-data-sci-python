{
 "cells": [
  {
   "cell_type": "code",
   "execution_count": 205,
   "metadata": {},
   "outputs": [],
   "source": [
    "# import QGRID para mejor visualizacion de los datos\n",
    "# los pptos sin abonos se deben cancelar en ClinicCloud, cosa q no generen alertas. O q el paciente tenga saldo a favor\n",
    "# Debemos Generar un archivo identificandolos. Las ff´s deben tener algun ingreso de dinero para no cancelarlas.\n",
    "# Los pptos aceptados hoy pueden haber sido elaborados en una fecha anterior. Su fecha se debe actualizar a la de hoy, \n",
    "# ya sea en ClinicCloud o en el reporte (mejor - 'fecha_inicio')\n",
    "\n",
    "import numpy as np\n",
    "import pandas as pd\n",
    "\n",
    "pd.options.display.max_columns = 999\n",
    "pd.options.display.max_rows = 999\n",
    "pd.set_option('display.max_colwidth', -1)"
   ]
  },
  {
   "cell_type": "code",
   "execution_count": 206,
   "metadata": {},
   "outputs": [],
   "source": [
    "archivo_PPE = 'Produccion_pendiente_exigible_con_tratamientos_Dentix_Calle_90.csv'\n",
    "archivo_crono = 'crono_Dentix_Calle_90.csv'"
   ]
  },
  {
   "cell_type": "code",
   "execution_count": 207,
   "metadata": {},
   "outputs": [],
   "source": [
    "crono_df = pd.read_csv(archivo_crono, encoding = 'unicode_escape', sep=',')\n",
    "PPE = pd.read_csv(archivo_PPE, encoding = 'unicode_escape', sep=',')\n",
    "\n",
    "#Eliminación de Puntos y Revisiones del PPE\n",
    "PPE.set_index('Servicio', inplace=True)\n",
    "PPE.drop(index='Puntos y Revisiones.  ',inplace=True)\n",
    "PPE.reset_index(inplace=True)"
   ]
  },
  {
   "cell_type": "code",
   "execution_count": 208,
   "metadata": {},
   "outputs": [
    {
     "data": {
      "text/html": [
       "<div>\n",
       "<style scoped>\n",
       "    .dataframe tbody tr th:only-of-type {\n",
       "        vertical-align: middle;\n",
       "    }\n",
       "\n",
       "    .dataframe tbody tr th {\n",
       "        vertical-align: top;\n",
       "    }\n",
       "\n",
       "    .dataframe thead th {\n",
       "        text-align: right;\n",
       "    }\n",
       "</style>\n",
       "<table border=\"1\" class=\"dataframe\">\n",
       "  <thead>\n",
       "    <tr style=\"text-align: right;\">\n",
       "      <th></th>\n",
       "      <th>Clínica</th>\n",
       "      <th>Fecha Pres.</th>\n",
       "      <th>Nº Historia</th>\n",
       "      <th>Presupuesto</th>\n",
       "      <th>Servicio</th>\n",
       "      <th>Semana</th>\n",
       "      <th>Cantidad Presupuestada</th>\n",
       "      <th>Doctor</th>\n",
       "      <th>Explicado</th>\n",
       "    </tr>\n",
       "  </thead>\n",
       "  <tbody>\n",
       "    <tr>\n",
       "      <th>0</th>\n",
       "      <td>Dentix Calle 90</td>\n",
       "      <td>13/08/2018</td>\n",
       "      <td>BG051872</td>\n",
       "      <td>Nº 3784 - LEIDY JOHANA LOPEZ MONTES</td>\n",
       "      <td>PROFILAXIS.   Pieza: 11</td>\n",
       "      <td>1</td>\n",
       "      <td>1</td>\n",
       "      <td>JOHANNA LISSETE MENDOZA DUARTE</td>\n",
       "      <td>SANDRA PATRICIA GONZALEZ TOVAR</td>\n",
       "    </tr>\n",
       "  </tbody>\n",
       "</table>\n",
       "</div>"
      ],
      "text/plain": [
       "           Clínica Fecha Pres. Nº Historia  \\\n",
       "0  Dentix Calle 90  13/08/2018  BG051872     \n",
       "\n",
       "                           Presupuesto                 Servicio  Semana  \\\n",
       "0  Nº 3784 - LEIDY JOHANA LOPEZ MONTES  PROFILAXIS.   Pieza: 11  1        \n",
       "\n",
       "   Cantidad Presupuestada                          Doctor  \\\n",
       "0  1                       JOHANNA LISSETE MENDOZA DUARTE   \n",
       "\n",
       "                        Explicado  \n",
       "0  SANDRA PATRICIA GONZALEZ TOVAR  "
      ]
     },
     "execution_count": 208,
     "metadata": {},
     "output_type": "execute_result"
    }
   ],
   "source": [
    "crono_df.head(1)"
   ]
  },
  {
   "cell_type": "code",
   "execution_count": 209,
   "metadata": {},
   "outputs": [
    {
     "data": {
      "text/html": [
       "<div>\n",
       "<style scoped>\n",
       "    .dataframe tbody tr th:only-of-type {\n",
       "        vertical-align: middle;\n",
       "    }\n",
       "\n",
       "    .dataframe tbody tr th {\n",
       "        vertical-align: top;\n",
       "    }\n",
       "\n",
       "    .dataframe thead th {\n",
       "        text-align: right;\n",
       "    }\n",
       "</style>\n",
       "<table border=\"1\" class=\"dataframe\">\n",
       "  <thead>\n",
       "    <tr style=\"text-align: right;\">\n",
       "      <th></th>\n",
       "      <th>Servicio</th>\n",
       "      <th>Clínica</th>\n",
       "      <th>Fecha Pres.</th>\n",
       "      <th>Nº Historia</th>\n",
       "      <th>Presupuesto</th>\n",
       "      <th>Descuento</th>\n",
       "      <th>Teléfono Paciente</th>\n",
       "      <th>Doctor</th>\n",
       "      <th>Especialidad</th>\n",
       "      <th>Explicado</th>\n",
       "      <th>Importe Pres.</th>\n",
       "      <th>Pagado Pres.</th>\n",
       "      <th>% Pagado</th>\n",
       "      <th>% Realizado</th>\n",
       "      <th>Producidos</th>\n",
       "      <th>Pendientes Producción</th>\n",
       "      <th>Próxima Cita</th>\n",
       "      <th>Fecha Última Cita Prod</th>\n",
       "    </tr>\n",
       "  </thead>\n",
       "  <tbody>\n",
       "    <tr>\n",
       "      <th>0</th>\n",
       "      <td>PROFILAXIS.   Pieza: 11</td>\n",
       "      <td>Dentix Calle 90</td>\n",
       "      <td>25/08/2018</td>\n",
       "      <td>BG05192</td>\n",
       "      <td>Nº 4039 - ROSA HELENA LINDARTE</td>\n",
       "      <td>10</td>\n",
       "      <td>3165233002</td>\n",
       "      <td>LAURA ALEJANDRA RONCANCIO GARCIA</td>\n",
       "      <td>OPERATORIA GENERAL</td>\n",
       "      <td>MONICA PATRICIA PEREZ ZAMORA</td>\n",
       "      <td>40000</td>\n",
       "      <td>0</td>\n",
       "      <td>0.00%</td>\n",
       "      <td>0.00%</td>\n",
       "      <td>0</td>\n",
       "      <td>36000.0</td>\n",
       "      <td>27/08/2018</td>\n",
       "      <td>Sin Cita Producida</td>\n",
       "    </tr>\n",
       "  </tbody>\n",
       "</table>\n",
       "</div>"
      ],
      "text/plain": [
       "                  Servicio          Clínica Fecha Pres. Nº Historia  \\\n",
       "0  PROFILAXIS.   Pieza: 11  Dentix Calle 90  25/08/2018  BG05192      \n",
       "\n",
       "                      Presupuesto  Descuento  Teléfono Paciente  \\\n",
       "0  Nº 4039 - ROSA HELENA LINDARTE  10         3165233002          \n",
       "\n",
       "                             Doctor        Especialidad  \\\n",
       "0  LAURA ALEJANDRA RONCANCIO GARCIA  OPERATORIA GENERAL   \n",
       "\n",
       "                      Explicado  Importe Pres.  Pagado Pres. % Pagado  \\\n",
       "0  MONICA PATRICIA PEREZ ZAMORA  40000          0             0.00%     \n",
       "\n",
       "  % Realizado  Producidos  Pendientes Producción Próxima Cita  \\\n",
       "0  0.00%       0           36000.0                27/08/2018    \n",
       "\n",
       "  Fecha Última Cita Prod  \n",
       "0  Sin Cita Producida     "
      ]
     },
     "execution_count": 209,
     "metadata": {},
     "output_type": "execute_result"
    }
   ],
   "source": [
    "PPE.head(1)"
   ]
  },
  {
   "cell_type": "code",
   "execution_count": 210,
   "metadata": {},
   "outputs": [
    {
     "name": "stdout",
     "output_type": "stream",
     "text": [
      "Numero de Procedimientos del PPE: 0\n"
     ]
    }
   ],
   "source": [
    "print('Numero de Procedimientos del PPE:',pptos_faltantes.count()[0])"
   ]
  },
  {
   "cell_type": "code",
   "execution_count": 211,
   "metadata": {},
   "outputs": [
    {
     "name": "stdout",
     "output_type": "stream",
     "text": [
      "Numero de tratamientos faltantes por crono: 0\n"
     ]
    }
   ],
   "source": [
    "#CRUCE PPE - CRONO: en este punto revisar que cada ttmto del PPE tenga su cronograma. Sinó, sacar los pptos q faltan por crono.\n",
    "#Esta revision se hace a diario para hacer la programación de lo del día con lo antiguo q se vaya aceptando.\n",
    "#la fecha de los pptos antiguos deben actualizarse a la fecha de hoy.\n",
    "\n",
    "reporte = pd.merge(PPE,crono_df,how='left',left_on=['Clínica','Nº Historia','Presupuesto','Servicio'], right_on=['Clínica','Nº Historia','Presupuesto','Servicio'])\n",
    "reporte['Cantidad Presupuestada'] = (reporte['Producidos']+reporte['Pendientes Producción'])/reporte['Importe Pres.']\n",
    "reporte['Cantidad Presupuestada'] = np.ceil(reporte['Cantidad Presupuestada'])\n",
    "reporte['Cantidad Presupuestada'].fillna(1,inplace=True) #las CSI traen vacío el campo 'Pendientes Produccion'.\n",
    "# en realidad parece que las unicas cantidades presupuestadas q son necesarias son las de Mensualidades de ortodoncia.\n",
    "# Para CSI, el %Realizado es el que nos sirve para calcular Cantidad Producida\n",
    "# Parece q la Cantidad Pendiente es innecesaria\n",
    "\n",
    "pptos_faltantes = reporte[reporte['Semana'].isnull()]\n",
    "\n",
    "pptos_faltantes = pptos_faltantes[['Clínica', 'Fecha Pres._x', 'Nº Historia', 'Presupuesto', 'Servicio', 'Semana', 'Cantidad Presupuestada', 'Doctor_x', 'Explicado_x']]\n",
    "print('Numero de tratamientos faltantes por crono:',pptos_faltantes.count()[0])\n",
    "pptos_faltantes = pptos_faltantes.astype({'Cantidad Presupuestada': int})\n",
    "\n",
    "pptos_faltantes.to_csv('pptos_faltantes.csv', index = False)\n",
    "\n",
    "pptos_faltantes.set_index(['Clínica','Nº Historia','Servicio'], inplace=True)\n",
    "pptos_faltantes"
   ]
  },
  {
   "cell_type": "code",
   "execution_count": null,
   "metadata": {},
   "outputs": [],
   "source": []
  }
 ],
 "metadata": {
  "kernelspec": {
   "display_name": "Python 3",
   "language": "python",
   "name": "python3"
  },
  "language_info": {
   "codemirror_mode": {
    "name": "ipython",
    "version": 3
   },
   "file_extension": ".py",
   "mimetype": "text/x-python",
   "name": "python",
   "nbconvert_exporter": "python",
   "pygments_lexer": "ipython3",
   "version": "3.6.4"
  }
 },
 "nbformat": 4,
 "nbformat_minor": 2
}
